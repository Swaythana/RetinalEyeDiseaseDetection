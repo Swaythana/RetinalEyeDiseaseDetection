{
 "cells": [
  {
   "cell_type": "markdown",
   "metadata": {},
   "source": [
    "# Algorithm 1"
   ]
  },
  {
   "cell_type": "code",
   "execution_count": null,
   "metadata": {},
   "outputs": [
    {
     "name": "stderr",
     "output_type": "stream",
     "text": [
      "c:\\users\\swayt\\appdata\\local\\programs\\python\\python37\\lib\\site-packages\\ipykernel_launcher.py:34: UserWarning: The argument 'neighbors' is deprecated and will be removed in scikit-image 0.18, use 'connectivity' instead. For neighbors=8, use connectivity=2\n"
     ]
    },
    {
     "name": "stdout",
     "output_type": "stream",
     "text": [
      "46\n",
      "24\n",
      "282\n",
      "222\n"
     ]
    }
   ],
   "source": [
    "from imutils import contours\n",
    "from skimage import measure\n",
    "import numpy as np\n",
    "import argparse\n",
    "import imutils\n",
    "import cv2\n",
    "\n",
    "# construct the argument parse and parse the arguments\n",
    "\n",
    "\n",
    "# load the image, convert it to grayscale, and blur it\n",
    "image = cv2.imread(\"C:\\\\Users\\\\swayt\\\\Downloads\\\\Training (1) (extract.me)\\\\Training\\\\arm_12.png\")\n",
    "image=cv2.resize(image,(800,615))\n",
    "gray = cv2.cvtColor(image, cv2.COLOR_BGR2GRAY)\n",
    "blur = cv2.bilateralFilter(gray,9,75,75)\n",
    "median=cv2.medianBlur(blur,5)\n",
    "\n",
    "\n",
    "#cv2.imshow(\"median\",median)\n",
    "\n",
    "#cv2.imshow()\n",
    "\n",
    "# threshold the image to reveal light regions in the\n",
    "# blurred image\n",
    "thresh = cv2.threshold(median, 155, 255, cv2.THRESH_BINARY)[1]\n",
    "# perform a series of erosions and dilations to remove\n",
    "# any small blobs of noise from the thresholded image\n",
    "thresh = cv2.erode(thresh, None, iterations=2)\n",
    "thresh = cv2.dilate(thresh, None, iterations=4)\n",
    "\n",
    "# perform a connected component analysis on the thresholded\n",
    "# image, then initialize a mask to store only the \"large\"\n",
    "# components\n",
    "labels = measure.label(thresh, neighbors=8, background=0)\n",
    "mask = np.zeros(thresh.shape, dtype=\"uint8\")\n",
    "\n",
    "# loop over the unique components\n",
    "for label in np.unique(labels):\n",
    "\t# if this is the background label, ignore it\n",
    "\tif label == 0:\n",
    "\t\tcontinue\n",
    "\n",
    "\t# otherwise, construct the label mask and count the\n",
    "\t# number of pixels \n",
    "\tlabelMask = np.zeros(thresh.shape, dtype=\"uint8\")\n",
    "\tlabelMask[labels == label] = 255\n",
    "\tnumPixels = cv2.countNonZero(labelMask)\n",
    "\n",
    "\t# if the number of pixels in the component is sufficiently\n",
    "\t# large, then add it to our mask of \"large blobs\"\n",
    "\tif numPixels >300:\n",
    "\t\tmask = cv2.add(mask, labelMask)\n",
    "\n",
    "# find the contours in the mask, then sort them from left to\n",
    "# right\n",
    "cnts = cv2.findContours(mask.copy(), cv2.RETR_EXTERNAL,\n",
    "\tcv2.CHAIN_APPROX_SIMPLE)\n",
    "cnts = imutils.grab_contours(cnts)\n",
    "cnts = contours.sort_contours(cnts)[0]\n",
    "# loop over the contours\n",
    "for (i, c) in enumerate(cnts):\n",
    "     ellipse = cv2.fitEllipse(c)\n",
    "     (x, y, w, h) = cv2.boundingRect(c)\n",
    "     cv2.putText(image, \"#{}\".format(i + 1), (x, y - 15),\n",
    "                 cv2.FONT_HERSHEY_SIMPLEX, 0.45, (0, 0, 255), 2)\n",
    "     cv2.ellipse(image,ellipse,(0,255,0),2)\n",
    "          \n",
    "     print(h)\n",
    "     print(w)\n",
    "     print(x)\n",
    "     print(y)\n",
    "     break\n",
    "\t# draw the bright spot on the image\n",
    "\t\n",
    "cv2.imshow(\"Image\", image)\n",
    "cv2.imshow(\"Image\", mask)\n",
    "cv2.waitKey(0)"
   ]
  },
  {
   "cell_type": "markdown",
   "metadata": {},
   "source": [
    "# Algorithm 2"
   ]
  },
  {
   "cell_type": "code",
   "execution_count": null,
   "metadata": {},
   "outputs": [],
   "source": [
    "import numpy as np\n",
    "import argparse\n",
    "import cv2\n",
    "\n",
    "# load the image and convert it to grayscale\n",
    "image = cv2.imread(\"C:\\\\Users\\\\swayt\\\\Downloads\\\\Training (1) (extract.me)\\\\Training\\\\arm_16.png\")\n",
    "\n",
    "orig = image.copy()\n",
    "gray = cv2.cvtColor(image, cv2.COLOR_BGR2GRAY)\n",
    "\n",
    "# the area of the image with the largest intensity value\n",
    "(minVal, maxVal, minLoc, maxLoc) = cv2.minMaxLoc(gray)\n",
    "cv2.circle(image, maxLoc, 5, (255, 0, 0), 2)\n",
    "\n",
    "# cv2.namedWindow(\"Naive\", cv2.WINDOW_NORMAL)\n",
    "# display the results of the naive attempt\n",
    "# cv2.imshow(\"Naive\", image)\n",
    "\n",
    "# apply a Gaussian blur to the image then find the brightest\n",
    "# region\n",
    "gray = cv2.GaussianBlur(gray, (141, 141), 0)\n",
    "(minVal, maxVal, minLoc, maxLoc) = cv2.minMaxLoc(gray)\n",
    "image = orig.copy()\n",
    "# actual 141 Robust method\n",
    "cv2.circle(image, maxLoc, 31, (255, 0, 0), 2)\n",
    "cv2.circle(image,maxLoc,1,(0,0,255),3)\n",
    "#cv2.namedWindow(\"Robust\", cv2.WINDOW_NORMAL) \n",
    "# display the results of our newly improved method\n",
    "#cv2.imshow(\"Robust\", image)\n",
    "# masking\n",
    "mask=np.zeros(image.shape[:2], dtype=\"uint8\")\n",
    "cv2.circle(mask, maxLoc, 21, 255, -1)\n",
    "cv2.circle(mask,maxLoc,1,255,-1)\n",
    "cv2.namedWindow(\"Mask\", cv2.WINDOW_NORMAL)\n",
    "# display the results of our mask\n",
    "cv2.imshow(\"Mask\", mask)\n",
    "cv2.waitKey(0)"
   ]
  },
  {
   "cell_type": "markdown",
   "metadata": {},
   "source": [
    "# Algorithm 3"
   ]
  },
  {
   "cell_type": "code",
   "execution_count": 2,
   "metadata": {},
   "outputs": [
    {
     "name": "stdout",
     "output_type": "stream",
     "text": [
      "107.50930933740793\n"
     ]
    },
    {
     "data": {
      "image/png": "[encoded data removed]",
      "text/plain": [
       "<Figure size 432x288 with 4 Axes>"
      ]
     },
     "metadata": {
      "needs_background": "light"
     },
     "output_type": "display_data"
    },
    {
     "data": {
      "image/png": "[encoded data removed]",
      "text/plain": [
       "<Figure size 432x288 with 1 Axes>"
      ]
     },
     "metadata": {
      "needs_background": "light"
     },
     "output_type": "display_data"
    },
    {
     "data": {
      "image/png": "[encoded data removed]",
      "text/plain": [
       "<Figure size 432x288 with 1 Axes>"
      ]
     },
     "metadata": {
      "needs_background": "light"
     },
     "output_type": "display_data"
    }
   ],
   "source": [
    "from scipy import signal\n",
    "import cv2\n",
    "import numpy as np\n",
    "from matplotlib import pyplot as plt\n",
    "from skimage.feature import greycomatrix, greycoprops\n",
    "from skimage import data\n",
    "\n",
    "image = cv2.imread(\"C:\\\\Users\\\\swayt\\\\Downloads\\\\DRIVE\\\\DRIVE\\\\DRIVE\\\\test\\\\test\\\\images\\\\01_test.tif\",1)\n",
    "\n",
    "#----------------------------PRE-PROCESSING AND SMOOTHING---------------------------------\n",
    "\n",
    "Abo,Ago,Aro = cv2.split(image)  #splitting into 3 channels\n",
    "\n",
    "#glcm = greycomatrix(Aro, [3], [0])\n",
    "#stats = greycoprops(glcm)\n",
    "#par1 = stats(1,1)\n",
    "\n",
    "Ar = Aro - Aro.mean()           #Preprocessing Red\n",
    "Ar = Ar - Ar.mean() - Aro.std() #Preprocessing Red\n",
    "Ar = Ar - Ar.mean() - Aro.std() #Preprocessing Red\n",
    "\n",
    "Mr = Ar.mean()                           #Mean of preprocessed red\n",
    "SDr = Ar.std()                           #SD of preprocessed red\n",
    "# Thr = 49.5 - 12 - Ar.std()               #OD Threshold\n",
    "Thr = Ar.std()\n",
    "print (Thr)\n",
    "\n",
    "Ag = Ago - Ago.mean()           #Preprocessing Green\n",
    "Ag = Ag - Ag.mean() - Ago.std() #Preprocessing Green\n",
    "\n",
    "Mg = Ag.mean()                           #Mean of preprocessed green\n",
    "SDg = Ag.std()                           #SD of preprocessed green\n",
    "Thg = Ag.mean() + 2*Ag.std() + 49.5 + 12 #OC Threshold\n",
    "\n",
    "filter = signal.gaussian(99, std=6) #Gaussian Window\n",
    "filter=filter/sum(filter)\n",
    "\n",
    "hist,bins = np.histogram(Ag.ravel(),256,[0,256])   #Histogram of preprocessed green channel\n",
    "histr,binsr = np.histogram(Ar.ravel(),256,[0,256]) #Histogram of preprocessed red channel\n",
    "\n",
    "smooth_hist_g=np.convolve(filter,hist)  #Histogram Smoothing Green\n",
    "smooth_hist_r=np.convolve(filter,histr) #Histogram Smoothing Red\n",
    "\n",
    "plt.subplot(2, 2, 1)\n",
    "plt.plot(hist)\n",
    "plt.title(\"Preprocessed Green Channel\")\n",
    "\n",
    "plt.subplot(2, 2, 2)\n",
    "plt.plot(smooth_hist_g)\n",
    "plt.title(\"Smoothed Histogram Green Channel\")\n",
    "\n",
    "plt.subplot(2, 2, 3)\n",
    "plt.plot(histr)\n",
    "plt.title(\"Preprocessed Red Channel\")\n",
    "\n",
    "plt.subplot(2, 2, 4)\n",
    "plt.plot(smooth_hist_r)\n",
    "plt.title(\"Smoothed Histogram Red Channel\")\n",
    "\n",
    "plt.show()\n",
    "\n",
    "#---------------------------------APPLYING THRESHOLD--------------------------------------\n",
    "\n",
    "r,c = Ag.shape\n",
    "Dd = np.zeros(shape=(r,c))\n",
    "Dc = np.zeros(shape=(r,c))\n",
    "\n",
    "for i in range(1,r):\n",
    "    for j in range(1,c):\n",
    "        if Ar[i,j]>Thr:\n",
    "            Dd[i,j]=255\n",
    "        else:\n",
    "            Dd[i,j]=0\n",
    "\n",
    "for i in range(1,r):\n",
    "    for j in range(1,c):\n",
    "        if Ag[i,j]>Thg:\n",
    "            Dc[i,j]=1\n",
    "        else:\n",
    "            Dc[i,j]=0\n",
    "\n",
    "#----------SELECTING LARGEST AREA AND PERFORMING MORPHOLOGY TO FIND EXACT CUP-------------\n",
    "#L1=cv2.connectedComponents(Dd,\n",
    "\n",
    "\n",
    "#------------------------DISPLAYING SEGMENTED OPTIC DISK AND CUP--------------------------\n",
    "\n",
    "plt.imshow(Dd, cmap = 'gray', interpolation = 'bicubic')\n",
    "plt.axis(\"off\")\n",
    "plt.title(\"Optic Disk\")\n",
    "plt.show()\n",
    "\n",
    "plt.imshow(Dc, cmap = 'gray', interpolation = 'bicubic')\n",
    "plt.axis(\"off\")\n",
    "plt.title(\"Optic Cup\")\n",
    "plt.show()  "
   ]
  },
  {
   "cell_type": "markdown",
   "metadata": {},
   "source": [
    "# Algorithm 4"
   ]
  },
  {
   "cell_type": "code",
   "execution_count": 1,
   "metadata": {},
   "outputs": [],
   "source": [
    "import numpy as np\n",
    "import argparse\n",
    "import cv2\n",
    "\n",
    "# load the image and convert it to grayscale\n",
    "image = cv2.imread(\"C:\\\\Users\\\\swayt\\\\Downloads\\\\Training (1) (extract.me)\\\\Training\\\\arm_16.png\")\n",
    "\n",
    "orig = image.copy()\n",
    "gray = cv2.cvtColor(image, cv2.COLOR_BGR2GRAY)\n",
    "\n",
    "# the area of the image with the largest intensity value\n",
    "(minVal, maxVal, minLoc, maxLoc) = cv2.minMaxLoc(gray)\n",
    "cv2.circle(image, maxLoc, 5, (255, 0, 0), 2)\n",
    "\n",
    "# cv2.namedWindow(\"Naive\", cv2.WINDOW_NORMAL)\n",
    "# display the results of the naive attempt\n",
    "# cv2.imshow(\"Naive\", image)\n",
    "\n",
    "# apply a Gaussian blur to the image then find the brightest\n",
    "# region\n",
    "gray = cv2.GaussianBlur(gray, (141, 141), 0)\n",
    "(minVal, maxVal, minLoc, maxLoc) = cv2.minMaxLoc(gray)\n",
    "image = orig.copy()\n",
    "# actual 141 Robust method\n",
    "cv2.circle(image, maxLoc, 31, (255, 0, 0), 2)\n",
    "cv2.circle(image,maxLoc,1,(0,0,255),3)\n",
    "#cv2.namedWindow(\"Robust\", cv2.WINDOW_NORMAL) \n",
    "# display the results of our newly improved method\n",
    "#cv2.imshow(\"Robust\", image)\n",
    "gray = cv2.cvtColor(image, cv2.COLOR_BGR2GRAY)\n",
    "\n",
    "## (2) Threshold\n",
    "th, threshed = cv2.threshold(gray, 127, 255, cv2.THRESH_BINARY_INV|cv2.THRESH_OTSU)\n",
    "\n",
    "## (3) Find the min-area contour\n",
    "cnts = cv2.findContours(threshed, cv2.RETR_TREE, cv2.CHAIN_APPROX_SIMPLE)[-2]\n",
    "cnts = sorted(cnts, key=cv2.contourArea)\n",
    "for cnt in cnts:\n",
    "    if cv2.contourArea(cnt) > 100:\n",
    "        break\n",
    "\n",
    "## (4) Create mask and do bitwise-op\n",
    "mask = np.zeros(image.shape[:2],np.uint8)\n",
    "cv2.drawContours(mask, [cnt],-1, 255, -1)\n",
    "dst = cv2.bitwise_and(image, image, mask=mask)\n",
    "\n",
    "## Save it\n",
    "#cv2.imwrite(\"dst.png\", dst)\n",
    "cv2.imshow(\"res\",dst)"
   ]
  },
  {
   "cell_type": "code",
   "execution_count": null,
   "metadata": {},
   "outputs": [],
   "source": []
  }
 ],
 "metadata": {
  "kernelspec": {
   "display_name": "Python 3",
   "language": "python",
   "name": "python3"
  },
  "language_info": {
   "codemirror_mode": {
    "name": "ipython",
    "version": 3
   },
   "file_extension": ".py",
   "mimetype": "text/x-python",
   "name": "python",
   "nbconvert_exporter": "python",
   "pygments_lexer": "ipython3",
   "version": "3.7.9"
  }
 },
 "nbformat": 4,
 "nbformat_minor": 4
}
